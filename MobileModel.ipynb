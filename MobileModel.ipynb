{
 "cells": [
  {
   "cell_type": "code",
   "execution_count": 1,
   "id": "86ef5066-4fa9-43f6-925a-9d6e0fabfa42",
   "metadata": {},
   "outputs": [],
   "source": [
    "import pandas as pd\n",
    "import numpy as np\n",
    "from sklearn.model_selection import train_test_split\n",
    "from sklearn.svm import SVR\n",
    "from sklearn.pipeline import Pipeline\n",
    "from sklearn.preprocessing import StandardScaler\n",
    "from sklearn.linear_model import LinearRegression\n",
    "import matplotlib.pyplot as plt\n",
    "import seaborn as sns\n",
    "from sklearn.metrics import mean_absolute_error \n",
    "from sklearn.metrics import mean_squared_error \n",
    "from sklearn.metrics import median_absolute_error"
   ]
  },
  {
   "cell_type": "code",
   "execution_count": 2,
   "id": "1a06b1f0-cc04-478e-8148-9560f2e7318e",
   "metadata": {},
   "outputs": [
    {
     "data": {
      "text/html": [
       "<div>\n",
       "<style scoped>\n",
       "    .dataframe tbody tr th:only-of-type {\n",
       "        vertical-align: middle;\n",
       "    }\n",
       "\n",
       "    .dataframe tbody tr th {\n",
       "        vertical-align: top;\n",
       "    }\n",
       "\n",
       "    .dataframe thead th {\n",
       "        text-align: right;\n",
       "    }\n",
       "</style>\n",
       "<table border=\"1\" class=\"dataframe\">\n",
       "  <thead>\n",
       "    <tr style=\"text-align: right;\">\n",
       "      <th></th>\n",
       "      <th>model</th>\n",
       "      <th>price</th>\n",
       "      <th>launch</th>\n",
       "      <th>camera</th>\n",
       "      <th>selfie</th>\n",
       "      <th>audio</th>\n",
       "      <th>display</th>\n",
       "      <th>battery</th>\n",
       "    </tr>\n",
       "  </thead>\n",
       "  <tbody>\n",
       "    <tr>\n",
       "      <th>0</th>\n",
       "      <td>Huawei P50 Pro</td>\n",
       "      <td>$907</td>\n",
       "      <td>Jul 2021</td>\n",
       "      <td>144.0</td>\n",
       "      <td>106.0</td>\n",
       "      <td>NaN</td>\n",
       "      <td>93.0</td>\n",
       "      <td>NaN</td>\n",
       "    </tr>\n",
       "    <tr>\n",
       "      <th>1</th>\n",
       "      <td>Xiaomi Mi 11 Ultra</td>\n",
       "      <td>$1200</td>\n",
       "      <td>Mar 2021</td>\n",
       "      <td>143.0</td>\n",
       "      <td>94.0</td>\n",
       "      <td>71.0</td>\n",
       "      <td>87.0</td>\n",
       "      <td>69.0</td>\n",
       "    </tr>\n",
       "    <tr>\n",
       "      <th>2</th>\n",
       "      <td>Huawei Mate 40 Pro+</td>\n",
       "      <td>$1363</td>\n",
       "      <td>Oct 2020</td>\n",
       "      <td>139.0</td>\n",
       "      <td>NaN</td>\n",
       "      <td>NaN</td>\n",
       "      <td>NaN</td>\n",
       "      <td>NaN</td>\n",
       "    </tr>\n",
       "    <tr>\n",
       "      <th>3</th>\n",
       "      <td>Apple iPhone 13 Pro Max</td>\n",
       "      <td>$1099</td>\n",
       "      <td>Sep 2021</td>\n",
       "      <td>137.0</td>\n",
       "      <td>99.0</td>\n",
       "      <td>75.0</td>\n",
       "      <td>99.0</td>\n",
       "      <td>89.0</td>\n",
       "    </tr>\n",
       "    <tr>\n",
       "      <th>4</th>\n",
       "      <td>Apple iPhone 13 Pro</td>\n",
       "      <td>$999</td>\n",
       "      <td>Sep 2021</td>\n",
       "      <td>137.0</td>\n",
       "      <td>99.0</td>\n",
       "      <td>75.0</td>\n",
       "      <td>98.0</td>\n",
       "      <td>76.0</td>\n",
       "    </tr>\n",
       "  </tbody>\n",
       "</table>\n",
       "</div>"
      ],
      "text/plain": [
       "                     model  price    launch  camera  selfie  audio  display  \\\n",
       "0           Huawei P50 Pro   $907  Jul 2021   144.0   106.0    NaN     93.0   \n",
       "1       Xiaomi Mi 11 Ultra  $1200  Mar 2021   143.0    94.0   71.0     87.0   \n",
       "2      Huawei Mate 40 Pro+  $1363  Oct 2020   139.0     NaN    NaN      NaN   \n",
       "3  Apple iPhone 13 Pro Max  $1099  Sep 2021   137.0    99.0   75.0     99.0   \n",
       "4      Apple iPhone 13 Pro   $999  Sep 2021   137.0    99.0   75.0     98.0   \n",
       "\n",
       "   battery  \n",
       "0      NaN  \n",
       "1     69.0  \n",
       "2      NaN  \n",
       "3     89.0  \n",
       "4     76.0  "
      ]
     },
     "execution_count": 2,
     "metadata": {},
     "output_type": "execute_result"
    }
   ],
   "source": [
    "dataset=pd.read_csv(\"mobile phone rating by dxo.csv\")\n",
    "dataset.head()"
   ]
  },
  {
   "cell_type": "code",
   "execution_count": 3,
   "id": "37a1cc5d-f3b0-41be-923f-95cffeb33235",
   "metadata": {},
   "outputs": [
    {
     "name": "stdout",
     "output_type": "stream",
     "text": [
      "<class 'pandas.core.frame.DataFrame'>\n",
      "RangeIndex: 223 entries, 0 to 222\n",
      "Data columns (total 8 columns):\n",
      " #   Column   Non-Null Count  Dtype  \n",
      "---  ------   --------------  -----  \n",
      " 0   model    223 non-null    object \n",
      " 1   price    223 non-null    object \n",
      " 2   launch   223 non-null    object \n",
      " 3   camera   184 non-null    float64\n",
      " 4   selfie   72 non-null     float64\n",
      " 5   audio    93 non-null     float64\n",
      " 6   display  64 non-null     float64\n",
      " 7   battery  54 non-null     float64\n",
      "dtypes: float64(5), object(3)\n",
      "memory usage: 14.1+ KB\n"
     ]
    }
   ],
   "source": [
    "dataset.info()"
   ]
  },
  {
   "cell_type": "code",
   "execution_count": 4,
   "id": "f16e8c89-028c-4b43-81f5-afc8ddb40201",
   "metadata": {},
   "outputs": [
    {
     "data": {
      "text/plain": [
       "model        0\n",
       "price        0\n",
       "launch       0\n",
       "camera      39\n",
       "selfie     151\n",
       "audio      130\n",
       "display    159\n",
       "battery    169\n",
       "dtype: int64"
      ]
     },
     "execution_count": 4,
     "metadata": {},
     "output_type": "execute_result"
    }
   ],
   "source": [
    "dataset.isnull().sum()"
   ]
  },
  {
   "cell_type": "code",
   "execution_count": 5,
   "id": "15e67b51-b995-4907-99cf-444421d73da9",
   "metadata": {},
   "outputs": [
    {
     "data": {
      "text/plain": [
       "<AxesSubplot:>"
      ]
     },
     "execution_count": 5,
     "metadata": {},
     "output_type": "execute_result"
    },
    {
     "data": {
      "image/png": "[encoded data removed]",
      "text/plain": [
       "<Figure size 432x288 with 1 Axes>"
      ]
     },
     "metadata": {
      "needs_background": "light"
     },
     "output_type": "display_data"
    }
   ],
   "source": [
    "sns.heatmap(dataset.isnull(),yticklabels=False,cbar=False,cmap='viridis')\n"
   ]
  },
  {
   "cell_type": "code",
   "execution_count": 6,
   "id": "c92d0123-73a4-444d-b117-6d1dd4bedb7b",
   "metadata": {},
   "outputs": [
    {
     "name": "stderr",
     "output_type": "stream",
     "text": [
      "C:\\Users\\UAS\\AppData\\Local\\Temp/ipykernel_11764/1799472221.py:1: FutureWarning: Dropping of nuisance columns in DataFrame reductions (with 'numeric_only=None') is deprecated; in a future version this will raise TypeError.  Select only valid columns before calling the reduction.\n",
      "  dataset.mean()\n"
     ]
    },
    {
     "data": {
      "text/plain": [
       "camera     106.445652\n",
       "selfie      87.069444\n",
       "audio       65.451613\n",
       "display     82.375000\n",
       "battery     74.351852\n",
       "dtype: float64"
      ]
     },
     "execution_count": 6,
     "metadata": {},
     "output_type": "execute_result"
    }
   ],
   "source": [
    "dataset.mean()"
   ]
  },
  {
   "cell_type": "code",
   "execution_count": 7,
   "id": "f2b33726-03fb-483b-953a-7a57e8951d3e",
   "metadata": {},
   "outputs": [
    {
     "name": "stderr",
     "output_type": "stream",
     "text": [
      "C:\\Users\\UAS\\AppData\\Local\\Temp/ipykernel_11764/1426138309.py:1: FutureWarning: Dropping of nuisance columns in DataFrame reductions (with 'numeric_only=None') is deprecated; in a future version this will raise TypeError.  Select only valid columns before calling the reduction.\n",
      "  dt1=dataset.replace(np.NAN,dataset.mean()).head(15)\n"
     ]
    },
    {
     "data": {
      "text/html": [
       "<div>\n",
       "<style scoped>\n",
       "    .dataframe tbody tr th:only-of-type {\n",
       "        vertical-align: middle;\n",
       "    }\n",
       "\n",
       "    .dataframe tbody tr th {\n",
       "        vertical-align: top;\n",
       "    }\n",
       "\n",
       "    .dataframe thead th {\n",
       "        text-align: right;\n",
       "    }\n",
       "</style>\n",
       "<table border=\"1\" class=\"dataframe\">\n",
       "  <thead>\n",
       "    <tr style=\"text-align: right;\">\n",
       "      <th></th>\n",
       "      <th>model</th>\n",
       "      <th>price</th>\n",
       "      <th>launch</th>\n",
       "      <th>camera</th>\n",
       "      <th>selfie</th>\n",
       "      <th>audio</th>\n",
       "      <th>display</th>\n",
       "      <th>battery</th>\n",
       "    </tr>\n",
       "  </thead>\n",
       "  <tbody>\n",
       "    <tr>\n",
       "      <th>0</th>\n",
       "      <td>Huawei P50 Pro</td>\n",
       "      <td>$907</td>\n",
       "      <td>Jul 2021</td>\n",
       "      <td>144.0</td>\n",
       "      <td>106.000000</td>\n",
       "      <td>65.451613</td>\n",
       "      <td>93.000</td>\n",
       "      <td>74.351852</td>\n",
       "    </tr>\n",
       "    <tr>\n",
       "      <th>1</th>\n",
       "      <td>Xiaomi Mi 11 Ultra</td>\n",
       "      <td>$1200</td>\n",
       "      <td>Mar 2021</td>\n",
       "      <td>143.0</td>\n",
       "      <td>94.000000</td>\n",
       "      <td>71.000000</td>\n",
       "      <td>87.000</td>\n",
       "      <td>69.000000</td>\n",
       "    </tr>\n",
       "    <tr>\n",
       "      <th>2</th>\n",
       "      <td>Huawei Mate 40 Pro+</td>\n",
       "      <td>$1363</td>\n",
       "      <td>Oct 2020</td>\n",
       "      <td>139.0</td>\n",
       "      <td>87.069444</td>\n",
       "      <td>65.451613</td>\n",
       "      <td>82.375</td>\n",
       "      <td>74.351852</td>\n",
       "    </tr>\n",
       "    <tr>\n",
       "      <th>3</th>\n",
       "      <td>Apple iPhone 13 Pro Max</td>\n",
       "      <td>$1099</td>\n",
       "      <td>Sep 2021</td>\n",
       "      <td>137.0</td>\n",
       "      <td>99.000000</td>\n",
       "      <td>75.000000</td>\n",
       "      <td>99.000</td>\n",
       "      <td>89.000000</td>\n",
       "    </tr>\n",
       "    <tr>\n",
       "      <th>4</th>\n",
       "      <td>Apple iPhone 13 Pro</td>\n",
       "      <td>$999</td>\n",
       "      <td>Sep 2021</td>\n",
       "      <td>137.0</td>\n",
       "      <td>99.000000</td>\n",
       "      <td>75.000000</td>\n",
       "      <td>98.000</td>\n",
       "      <td>76.000000</td>\n",
       "    </tr>\n",
       "    <tr>\n",
       "      <th>5</th>\n",
       "      <td>Huawei Mate 40 Pro</td>\n",
       "      <td>$1199</td>\n",
       "      <td>Oct 2020</td>\n",
       "      <td>136.0</td>\n",
       "      <td>104.000000</td>\n",
       "      <td>65.451613</td>\n",
       "      <td>82.375</td>\n",
       "      <td>74.351852</td>\n",
       "    </tr>\n",
       "    <tr>\n",
       "      <th>6</th>\n",
       "      <td>Google Pixel 6 Pro</td>\n",
       "      <td>$899</td>\n",
       "      <td>Oct 2021</td>\n",
       "      <td>135.0</td>\n",
       "      <td>102.000000</td>\n",
       "      <td>71.000000</td>\n",
       "      <td>90.000</td>\n",
       "      <td>74.351852</td>\n",
       "    </tr>\n",
       "    <tr>\n",
       "      <th>7</th>\n",
       "      <td>Vivo X70 Pro+</td>\n",
       "      <td>$833</td>\n",
       "      <td>Sep 2021</td>\n",
       "      <td>135.0</td>\n",
       "      <td>87.069444</td>\n",
       "      <td>66.000000</td>\n",
       "      <td>91.000</td>\n",
       "      <td>74.351852</td>\n",
       "    </tr>\n",
       "    <tr>\n",
       "      <th>8</th>\n",
       "      <td>Asus Smartphone for Snapdragon Insiders</td>\n",
       "      <td>$1499</td>\n",
       "      <td>Jul 2021</td>\n",
       "      <td>133.0</td>\n",
       "      <td>87.069444</td>\n",
       "      <td>77.000000</td>\n",
       "      <td>82.375</td>\n",
       "      <td>74.351852</td>\n",
       "    </tr>\n",
       "    <tr>\n",
       "      <th>9</th>\n",
       "      <td>Xiaomi Mi 10 Ultra</td>\n",
       "      <td>$803</td>\n",
       "      <td>Aug 2020</td>\n",
       "      <td>133.0</td>\n",
       "      <td>88.000000</td>\n",
       "      <td>65.451613</td>\n",
       "      <td>73.000</td>\n",
       "      <td>74.351852</td>\n",
       "    </tr>\n",
       "    <tr>\n",
       "      <th>10</th>\n",
       "      <td>Google Pixel 6</td>\n",
       "      <td>$599</td>\n",
       "      <td>Oct 2021</td>\n",
       "      <td>132.0</td>\n",
       "      <td>97.000000</td>\n",
       "      <td>71.000000</td>\n",
       "      <td>87.000</td>\n",
       "      <td>74.351852</td>\n",
       "    </tr>\n",
       "    <tr>\n",
       "      <th>11</th>\n",
       "      <td>Huawei P40 Pro</td>\n",
       "      <td>$1099</td>\n",
       "      <td>Mar 2020</td>\n",
       "      <td>132.0</td>\n",
       "      <td>103.000000</td>\n",
       "      <td>59.000000</td>\n",
       "      <td>85.000</td>\n",
       "      <td>74.351852</td>\n",
       "    </tr>\n",
       "    <tr>\n",
       "      <th>12</th>\n",
       "      <td>Oppo Find X3 Pro</td>\n",
       "      <td>$1149</td>\n",
       "      <td>Mar 2021</td>\n",
       "      <td>131.0</td>\n",
       "      <td>87.069444</td>\n",
       "      <td>62.000000</td>\n",
       "      <td>88.000</td>\n",
       "      <td>66.000000</td>\n",
       "    </tr>\n",
       "    <tr>\n",
       "      <th>13</th>\n",
       "      <td>Vivo X70 Pro (MediaTek)</td>\n",
       "      <td>$651</td>\n",
       "      <td>Sep 2021</td>\n",
       "      <td>131.0</td>\n",
       "      <td>87.069444</td>\n",
       "      <td>51.000000</td>\n",
       "      <td>82.375</td>\n",
       "      <td>74.351852</td>\n",
       "    </tr>\n",
       "    <tr>\n",
       "      <th>14</th>\n",
       "      <td>Vivo X50 Pro+</td>\n",
       "      <td>$757</td>\n",
       "      <td>Jun 2020</td>\n",
       "      <td>131.0</td>\n",
       "      <td>87.069444</td>\n",
       "      <td>65.451613</td>\n",
       "      <td>82.375</td>\n",
       "      <td>74.351852</td>\n",
       "    </tr>\n",
       "  </tbody>\n",
       "</table>\n",
       "</div>"
      ],
      "text/plain": [
       "                                      model  price    launch  camera  \\\n",
       "0                            Huawei P50 Pro   $907  Jul 2021   144.0   \n",
       "1                        Xiaomi Mi 11 Ultra  $1200  Mar 2021   143.0   \n",
       "2                       Huawei Mate 40 Pro+  $1363  Oct 2020   139.0   \n",
       "3                   Apple iPhone 13 Pro Max  $1099  Sep 2021   137.0   \n",
       "4                       Apple iPhone 13 Pro   $999  Sep 2021   137.0   \n",
       "5                        Huawei Mate 40 Pro  $1199  Oct 2020   136.0   \n",
       "6                        Google Pixel 6 Pro   $899  Oct 2021   135.0   \n",
       "7                             Vivo X70 Pro+   $833  Sep 2021   135.0   \n",
       "8   Asus Smartphone for Snapdragon Insiders  $1499  Jul 2021   133.0   \n",
       "9                        Xiaomi Mi 10 Ultra   $803  Aug 2020   133.0   \n",
       "10                           Google Pixel 6   $599  Oct 2021   132.0   \n",
       "11                           Huawei P40 Pro  $1099  Mar 2020   132.0   \n",
       "12                         Oppo Find X3 Pro  $1149  Mar 2021   131.0   \n",
       "13                  Vivo X70 Pro (MediaTek)   $651  Sep 2021   131.0   \n",
       "14                            Vivo X50 Pro+   $757  Jun 2020   131.0   \n",
       "\n",
       "        selfie      audio  display    battery  \n",
       "0   106.000000  65.451613   93.000  74.351852  \n",
       "1    94.000000  71.000000   87.000  69.000000  \n",
       "2    87.069444  65.451613   82.375  74.351852  \n",
       "3    99.000000  75.000000   99.000  89.000000  \n",
       "4    99.000000  75.000000   98.000  76.000000  \n",
       "5   104.000000  65.451613   82.375  74.351852  \n",
       "6   102.000000  71.000000   90.000  74.351852  \n",
       "7    87.069444  66.000000   91.000  74.351852  \n",
       "8    87.069444  77.000000   82.375  74.351852  \n",
       "9    88.000000  65.451613   73.000  74.351852  \n",
       "10   97.000000  71.000000   87.000  74.351852  \n",
       "11  103.000000  59.000000   85.000  74.351852  \n",
       "12   87.069444  62.000000   88.000  66.000000  \n",
       "13   87.069444  51.000000   82.375  74.351852  \n",
       "14   87.069444  65.451613   82.375  74.351852  "
      ]
     },
     "execution_count": 7,
     "metadata": {},
     "output_type": "execute_result"
    }
   ],
   "source": [
    "dt1=dataset.replace(np.NAN,dataset.mean()).head(15)\n",
    "dt1"
   ]
  },
  {
   "cell_type": "code",
   "execution_count": 8,
   "id": "8a6bccd3-270e-4bb0-a397-387d89676e55",
   "metadata": {},
   "outputs": [
    {
     "data": {
      "text/plain": [
       "model      0\n",
       "price      0\n",
       "launch     0\n",
       "camera     0\n",
       "selfie     0\n",
       "audio      0\n",
       "display    0\n",
       "battery    0\n",
       "dtype: int64"
      ]
     },
     "execution_count": 8,
     "metadata": {},
     "output_type": "execute_result"
    }
   ],
   "source": [
    "dt1.isnull().sum()"
   ]
  },
  {
   "cell_type": "code",
   "execution_count": 9,
   "id": "b3125a2d-9af1-4352-88f7-8df7cdf7ce3b",
   "metadata": {},
   "outputs": [
    {
     "data": {
      "text/plain": [
       "<AxesSubplot:>"
      ]
     },
     "execution_count": 9,
     "metadata": {},
     "output_type": "execute_result"
    },
    {
     "data": {
      "image/png": "[encoded data removed]",
      "text/plain": [
       "<Figure size 432x288 with 1 Axes>"
      ]
     },
     "metadata": {
      "needs_background": "light"
     },
     "output_type": "display_data"
    }
   ],
   "source": [
    "sns.heatmap(dt1.isnull(),yticklabels=False,cbar=False,cmap='viridis')\n"
   ]
  },
  {
   "cell_type": "code",
   "execution_count": 10,
   "id": "8d5c907a-5923-4b77-b1f6-c51f1dd17bbe",
   "metadata": {},
   "outputs": [
    {
     "name": "stdout",
     "output_type": "stream",
     "text": [
      "<class 'pandas.core.frame.DataFrame'>\n",
      "RangeIndex: 15 entries, 0 to 14\n",
      "Data columns (total 8 columns):\n",
      " #   Column   Non-Null Count  Dtype  \n",
      "---  ------   --------------  -----  \n",
      " 0   model    15 non-null     object \n",
      " 1   price    15 non-null     float64\n",
      " 2   launch   15 non-null     object \n",
      " 3   camera   15 non-null     float64\n",
      " 4   selfie   15 non-null     float64\n",
      " 5   audio    15 non-null     float64\n",
      " 6   display  15 non-null     float64\n",
      " 7   battery  15 non-null     float64\n",
      "dtypes: float64(6), object(2)\n",
      "memory usage: 1.1+ KB\n"
     ]
    }
   ],
   "source": [
    "dt1['price'] = dt1['price'].apply(lambda x: str(x).replace('$', '') if '$' in str(x) else str(x))\n",
    "dt1['price'] = dt1['price'].apply(lambda x: float(x))\n",
    "dt1.info()"
   ]
  },
  {
   "cell_type": "code",
   "execution_count": 11,
   "id": "a6b32753-d627-4890-ab60-fc5f74b22865",
   "metadata": {},
   "outputs": [
    {
     "data": {
      "text/plain": [
       "['model', 'launch']"
      ]
     },
     "execution_count": 11,
     "metadata": {},
     "output_type": "execute_result"
    }
   ],
   "source": [
    "object_data=[]\n",
    "for i in dt1.columns:\n",
    "    if dt1[i].dtypes=='object':\n",
    "        object_data.append(i)\n",
    "object_data"
   ]
  },
  {
   "cell_type": "code",
   "execution_count": 12,
   "id": "d94fd4f0-b783-4abc-9478-6cebb5537a55",
   "metadata": {},
   "outputs": [
    {
     "data": {
      "text/html": [
       "<div>\n",
       "<style scoped>\n",
       "    .dataframe tbody tr th:only-of-type {\n",
       "        vertical-align: middle;\n",
       "    }\n",
       "\n",
       "    .dataframe tbody tr th {\n",
       "        vertical-align: top;\n",
       "    }\n",
       "\n",
       "    .dataframe thead th {\n",
       "        text-align: right;\n",
       "    }\n",
       "</style>\n",
       "<table border=\"1\" class=\"dataframe\">\n",
       "  <thead>\n",
       "    <tr style=\"text-align: right;\">\n",
       "      <th></th>\n",
       "      <th>price</th>\n",
       "      <th>camera</th>\n",
       "      <th>selfie</th>\n",
       "      <th>audio</th>\n",
       "      <th>display</th>\n",
       "      <th>battery</th>\n",
       "      <th>model_Apple iPhone 13 Pro Max</th>\n",
       "      <th>model_Asus Smartphone for Snapdragon Insiders</th>\n",
       "      <th>model_Google Pixel 6</th>\n",
       "      <th>model_Google Pixel 6 Pro</th>\n",
       "      <th>...</th>\n",
       "      <th>model_Vivo X70 Pro+</th>\n",
       "      <th>model_Xiaomi Mi 10 Ultra</th>\n",
       "      <th>model_Xiaomi Mi 11 Ultra</th>\n",
       "      <th>launch_Jul 2021</th>\n",
       "      <th>launch_Jun 2020</th>\n",
       "      <th>launch_Mar 2020</th>\n",
       "      <th>launch_Mar 2021</th>\n",
       "      <th>launch_Oct 2020</th>\n",
       "      <th>launch_Oct 2021</th>\n",
       "      <th>launch_Sep 2021</th>\n",
       "    </tr>\n",
       "  </thead>\n",
       "  <tbody>\n",
       "    <tr>\n",
       "      <th>0</th>\n",
       "      <td>907.0</td>\n",
       "      <td>144.0</td>\n",
       "      <td>106.000000</td>\n",
       "      <td>65.451613</td>\n",
       "      <td>93.000</td>\n",
       "      <td>74.351852</td>\n",
       "      <td>0</td>\n",
       "      <td>0</td>\n",
       "      <td>0</td>\n",
       "      <td>0</td>\n",
       "      <td>...</td>\n",
       "      <td>0</td>\n",
       "      <td>0</td>\n",
       "      <td>0</td>\n",
       "      <td>1</td>\n",
       "      <td>0</td>\n",
       "      <td>0</td>\n",
       "      <td>0</td>\n",
       "      <td>0</td>\n",
       "      <td>0</td>\n",
       "      <td>0</td>\n",
       "    </tr>\n",
       "    <tr>\n",
       "      <th>1</th>\n",
       "      <td>1200.0</td>\n",
       "      <td>143.0</td>\n",
       "      <td>94.000000</td>\n",
       "      <td>71.000000</td>\n",
       "      <td>87.000</td>\n",
       "      <td>69.000000</td>\n",
       "      <td>0</td>\n",
       "      <td>0</td>\n",
       "      <td>0</td>\n",
       "      <td>0</td>\n",
       "      <td>...</td>\n",
       "      <td>0</td>\n",
       "      <td>0</td>\n",
       "      <td>1</td>\n",
       "      <td>0</td>\n",
       "      <td>0</td>\n",
       "      <td>0</td>\n",
       "      <td>1</td>\n",
       "      <td>0</td>\n",
       "      <td>0</td>\n",
       "      <td>0</td>\n",
       "    </tr>\n",
       "    <tr>\n",
       "      <th>2</th>\n",
       "      <td>1363.0</td>\n",
       "      <td>139.0</td>\n",
       "      <td>87.069444</td>\n",
       "      <td>65.451613</td>\n",
       "      <td>82.375</td>\n",
       "      <td>74.351852</td>\n",
       "      <td>0</td>\n",
       "      <td>0</td>\n",
       "      <td>0</td>\n",
       "      <td>0</td>\n",
       "      <td>...</td>\n",
       "      <td>0</td>\n",
       "      <td>0</td>\n",
       "      <td>0</td>\n",
       "      <td>0</td>\n",
       "      <td>0</td>\n",
       "      <td>0</td>\n",
       "      <td>0</td>\n",
       "      <td>1</td>\n",
       "      <td>0</td>\n",
       "      <td>0</td>\n",
       "    </tr>\n",
       "    <tr>\n",
       "      <th>3</th>\n",
       "      <td>1099.0</td>\n",
       "      <td>137.0</td>\n",
       "      <td>99.000000</td>\n",
       "      <td>75.000000</td>\n",
       "      <td>99.000</td>\n",
       "      <td>89.000000</td>\n",
       "      <td>1</td>\n",
       "      <td>0</td>\n",
       "      <td>0</td>\n",
       "      <td>0</td>\n",
       "      <td>...</td>\n",
       "      <td>0</td>\n",
       "      <td>0</td>\n",
       "      <td>0</td>\n",
       "      <td>0</td>\n",
       "      <td>0</td>\n",
       "      <td>0</td>\n",
       "      <td>0</td>\n",
       "      <td>0</td>\n",
       "      <td>0</td>\n",
       "      <td>1</td>\n",
       "    </tr>\n",
       "    <tr>\n",
       "      <th>4</th>\n",
       "      <td>999.0</td>\n",
       "      <td>137.0</td>\n",
       "      <td>99.000000</td>\n",
       "      <td>75.000000</td>\n",
       "      <td>98.000</td>\n",
       "      <td>76.000000</td>\n",
       "      <td>0</td>\n",
       "      <td>0</td>\n",
       "      <td>0</td>\n",
       "      <td>0</td>\n",
       "      <td>...</td>\n",
       "      <td>0</td>\n",
       "      <td>0</td>\n",
       "      <td>0</td>\n",
       "      <td>0</td>\n",
       "      <td>0</td>\n",
       "      <td>0</td>\n",
       "      <td>0</td>\n",
       "      <td>0</td>\n",
       "      <td>0</td>\n",
       "      <td>1</td>\n",
       "    </tr>\n",
       "  </tbody>\n",
       "</table>\n",
       "<p>5 rows × 27 columns</p>\n",
       "</div>"
      ],
      "text/plain": [
       "    price  camera      selfie      audio  display    battery  \\\n",
       "0   907.0   144.0  106.000000  65.451613   93.000  74.351852   \n",
       "1  1200.0   143.0   94.000000  71.000000   87.000  69.000000   \n",
       "2  1363.0   139.0   87.069444  65.451613   82.375  74.351852   \n",
       "3  1099.0   137.0   99.000000  75.000000   99.000  89.000000   \n",
       "4   999.0   137.0   99.000000  75.000000   98.000  76.000000   \n",
       "\n",
       "   model_Apple iPhone 13 Pro Max  \\\n",
       "0                              0   \n",
       "1                              0   \n",
       "2                              0   \n",
       "3                              1   \n",
       "4                              0   \n",
       "\n",
       "   model_Asus Smartphone for Snapdragon Insiders  model_Google Pixel 6  \\\n",
       "0                                              0                     0   \n",
       "1                                              0                     0   \n",
       "2                                              0                     0   \n",
       "3                                              0                     0   \n",
       "4                                              0                     0   \n",
       "\n",
       "   model_Google Pixel 6 Pro  ...  model_Vivo X70 Pro+  \\\n",
       "0                         0  ...                    0   \n",
       "1                         0  ...                    0   \n",
       "2                         0  ...                    0   \n",
       "3                         0  ...                    0   \n",
       "4                         0  ...                    0   \n",
       "\n",
       "   model_Xiaomi Mi 10 Ultra  model_Xiaomi Mi 11 Ultra  launch_Jul 2021  \\\n",
       "0                         0                         0                1   \n",
       "1                         0                         1                0   \n",
       "2                         0                         0                0   \n",
       "3                         0                         0                0   \n",
       "4                         0                         0                0   \n",
       "\n",
       "   launch_Jun 2020  launch_Mar 2020  launch_Mar 2021  launch_Oct 2020  \\\n",
       "0                0                0                0                0   \n",
       "1                0                0                1                0   \n",
       "2                0                0                0                1   \n",
       "3                0                0                0                0   \n",
       "4                0                0                0                0   \n",
       "\n",
       "   launch_Oct 2021  launch_Sep 2021  \n",
       "0                0                0  \n",
       "1                0                0  \n",
       "2                0                0  \n",
       "3                0                1  \n",
       "4                0                1  \n",
       "\n",
       "[5 rows x 27 columns]"
      ]
     },
     "execution_count": 12,
     "metadata": {},
     "output_type": "execute_result"
    }
   ],
   "source": [
    "if object_data:\n",
    "            onehotdata = pd.get_dummies(dt1,columns=object_data,drop_first='True')\n",
    "dt2=onehotdata.copy()\n",
    "dt2.head()"
   ]
  },
  {
   "cell_type": "code",
   "execution_count": 13,
   "id": "c72a584a-31d3-475c-adcf-831911fb0a22",
   "metadata": {},
   "outputs": [
    {
     "name": "stderr",
     "output_type": "stream",
     "text": [
      "c:\\users\\uas\\appdata\\local\\programs\\python\\python39\\lib\\site-packages\\seaborn\\distributions.py:2619: FutureWarning: `distplot` is a deprecated function and will be removed in a future version. Please adapt your code to use either `displot` (a figure-level function with similar flexibility) or `histplot` (an axes-level function for histograms).\n",
      "  warnings.warn(msg, FutureWarning)\n"
     ]
    },
    {
     "data": {
      "image/png": "[encoded data removed]",
      "text/plain": [
       "<Figure size 1152x432 with 1 Axes>"
      ]
     },
     "metadata": {
      "needs_background": "light"
     },
     "output_type": "display_data"
    }
   ],
   "source": [
    "plt.figure(figsize = (16,6)) # set width & height of the figure\n",
    "\n",
    "plt.title('Distribution of Mobile Prices',size=15,color = 'black')\n",
    "plt.xlabel('Price $',fontsize=15)\n",
    "plt.ylabel('Density',fontsize=15)\n",
    "sns.distplot(dt2['price'],color = 'blue')\n",
    "plt.xlabel(\"Price ($)\")\n",
    "plt.grid(True)\n",
    "plt.show()"
   ]
  },
  {
   "cell_type": "code",
   "execution_count": 14,
   "id": "8c932334-a302-4662-b220-7607756785a3",
   "metadata": {},
   "outputs": [],
   "source": [
    "X=dt2.drop(\"price\",axis=1)\n",
    "y=dt2.loc[:,\"price\"]\n",
    "y=np.array(y).reshape(-1,1)\n",
    "y[:10]\n",
    "X_train, X_test, y_train, y_test = train_test_split(X, y, test_size=0.33, random_state=44, shuffle =True)"
   ]
  },
  {
   "cell_type": "code",
   "execution_count": 15,
   "id": "a2020a5f-c6b5-43dd-9e59-3fa5f04f81aa",
   "metadata": {},
   "outputs": [
    {
     "name": "stderr",
     "output_type": "stream",
     "text": [
      "c:\\users\\uas\\appdata\\local\\programs\\python\\python39\\lib\\site-packages\\sklearn\\utils\\validation.py:985: DataConversionWarning: A column-vector y was passed when a 1d array was expected. Please change the shape of y to (n_samples, ), for example using ravel().\n",
      "  y = column_or_1d(y, warn=True)\n"
     ]
    },
    {
     "data": {
      "text/plain": [
       "Pipeline(steps=[('scalar', StandardScaler()), ('model', SVR())])"
      ]
     },
     "execution_count": 15,
     "metadata": {},
     "output_type": "execute_result"
    }
   ],
   "source": [
    "steps = [\n",
    "        ('scalar', StandardScaler()),\n",
    "        ('model', SVR())\n",
    "        ]\n",
    "PipelineModel = Pipeline(steps)\n",
    "PipelineModel.fit(X_train, y_train)\n"
   ]
  },
  {
   "cell_type": "code",
   "execution_count": 16,
   "id": "a38972c2-c805-4d69-87c6-7706007a77ec",
   "metadata": {},
   "outputs": [
    {
     "data": {
      "text/plain": [
       "0.006253541142903218"
      ]
     },
     "execution_count": 16,
     "metadata": {},
     "output_type": "execute_result"
    }
   ],
   "source": [
    "PipelineModel.score(X_train,y_train)"
   ]
  },
  {
   "cell_type": "code",
   "execution_count": 17,
   "id": "c377b5e7-f238-4888-ba3a-e0946f28b4d0",
   "metadata": {},
   "outputs": [
    {
     "data": {
      "text/plain": [
       "-0.4708513457556953"
      ]
     },
     "execution_count": 17,
     "metadata": {},
     "output_type": "execute_result"
    }
   ],
   "source": [
    "PipelineModel.score(X_test,y_test)"
   ]
  },
  {
   "cell_type": "code",
   "execution_count": 27,
   "id": "9c2622d4-134a-46fd-9817-9c412f852709",
   "metadata": {},
   "outputs": [
    {
     "data": {
      "text/plain": [
       "Pipeline(steps=[('scalar', StandardScaler()), ('model', LinearRegression())])"
      ]
     },
     "execution_count": 27,
     "metadata": {},
     "output_type": "execute_result"
    }
   ],
   "source": [
    "steps = [\n",
    "        ('scalar', StandardScaler()),\n",
    "        ('model', LinearRegression())\n",
    "        ]\n",
    "PipelineModellinear = Pipeline(steps)\n",
    "PipelineModellinear.fit(X_train, y_train)\n"
   ]
  },
  {
   "cell_type": "code",
   "execution_count": 19,
   "id": "f3118969-4b85-4efc-b686-b9dafecccf46",
   "metadata": {},
   "outputs": [
    {
     "data": {
      "text/plain": [
       "1.0"
      ]
     },
     "execution_count": 19,
     "metadata": {},
     "output_type": "execute_result"
    }
   ],
   "source": [
    "PipelineModellinear.score(X_train,y_train)"
   ]
  },
  {
   "cell_type": "code",
   "execution_count": 20,
   "id": "fd58e6ff-b877-4b9b-9392-ef4eb4284145",
   "metadata": {},
   "outputs": [
    {
     "data": {
      "text/plain": [
       "-0.6255369336644689"
      ]
     },
     "execution_count": 20,
     "metadata": {},
     "output_type": "execute_result"
    }
   ],
   "source": [
    "PipelineModellinear.score(X_test,y_test)"
   ]
  },
  {
   "cell_type": "code",
   "execution_count": 21,
   "id": "f06f00f6-bd58-4666-b9c1-c6acb70af516",
   "metadata": {},
   "outputs": [
    {
     "data": {
      "text/plain": [
       "array([[1146.55958403],\n",
       "       [ 866.94720595],\n",
       "       [ 803.53254612],\n",
       "       [ 913.16878845],\n",
       "       [ 948.0837715 ]])"
      ]
     },
     "execution_count": 21,
     "metadata": {},
     "output_type": "execute_result"
    }
   ],
   "source": [
    "#for linear\n",
    "\n",
    "y_pred=PipelineModellinear.predict(X_test)\n",
    "y_pred"
   ]
  },
  {
   "cell_type": "code",
   "execution_count": 22,
   "id": "e158a1f2-f7dd-4a5e-9ec6-1ec7f23c7785",
   "metadata": {},
   "outputs": [
    {
     "name": "stdout",
     "output_type": "stream",
     "text": [
      "Mean Absolute Error Value is :  212.2091361693051\n",
      "Mean Squared Error Value is :  91629.82639225511\n"
     ]
    }
   ],
   "source": [
    "#for linear\n",
    "MAEValue = mean_absolute_error(y_test, y_pred, multioutput='uniform_average') \n",
    "print('Mean Absolute Error Value is : ', MAEValue)\n",
    "MSEValue = mean_squared_error(y_test, y_pred, multioutput='uniform_average')\n",
    "print('Mean Squared Error Value is : ', MSEValue)"
   ]
  },
  {
   "cell_type": "code",
   "execution_count": 23,
   "id": "a45dd5c3-6667-4d47-9ecb-3f923893c6a6",
   "metadata": {},
   "outputs": [
    {
     "data": {
      "text/plain": [
       "array([953.2306553 , 952.73595805, 952.75278953, 953.15061781,\n",
       "       952.99159275])"
      ]
     },
     "execution_count": 23,
     "metadata": {},
     "output_type": "execute_result"
    }
   ],
   "source": [
    "#SVR\n",
    "y_preds=PipelineModel.predict(X_test)\n",
    "y_preds"
   ]
  },
  {
   "cell_type": "code",
   "execution_count": 24,
   "id": "c442bb92-0b59-41cf-af88-2bd55e879496",
   "metadata": {},
   "outputs": [
    {
     "name": "stdout",
     "output_type": "stream",
     "text": [
      "Mean Absolute Error Value is :  232.38904024666536\n",
      "Mean Squared Error Value is :  82910.36067484898\n"
     ]
    }
   ],
   "source": [
    "#SVR\n",
    "\n",
    "MAEValue = mean_absolute_error(y_test, y_preds, multioutput='uniform_average') \n",
    "print('Mean Absolute Error Value is : ', MAEValue)\n",
    "MSEValue = mean_squared_error(y_test, y_preds, multioutput='uniform_average')\n",
    "print('Mean Squared Error Value is : ', MSEValue)"
   ]
  },
  {
   "cell_type": "code",
   "execution_count": 28,
   "id": "9910ed84-ee82-4456-bd01-fcfc2a135360",
   "metadata": {},
   "outputs": [
    {
     "data": {
      "image/png": "[encoded data removed]",
      "text/plain": [
       "<Figure size 432x288 with 1 Axes>"
      ]
     },
     "metadata": {
      "needs_background": "light"
     },
     "output_type": "display_data"
    }
   ],
   "source": [
    "plt.plot(y_pred)\n",
    "plt.plot(y_test)\n",
    "plt.title('model accuracy')\n",
    "plt.ylabel('y_pred')\n",
    "plt.xlabel('y_test')\n",
    "plt.legend(['pred', 'test'], loc='upper left')\n",
    "plt.show()"
   ]
  },
  {
   "cell_type": "code",
   "execution_count": 29,
   "id": "40526381-ef56-4186-b5f0-a32a55b82a52",
   "metadata": {},
   "outputs": [
    {
     "data": {
      "image/png": "[encoded data removed]",
      "text/plain": [
       "<Figure size 432x288 with 1 Axes>"
      ]
     },
     "metadata": {
      "needs_background": "light"
     },
     "output_type": "display_data"
    }
   ],
   "source": [
    "#SVR\n",
    "plt.plot(y_preds)\n",
    "plt.plot(y_test)\n",
    "plt.title('model accuracy')\n",
    "plt.ylabel('y_pred')\n",
    "plt.xlabel('y_test')\n",
    "plt.legend(['pred', 'test'], loc='upper left')\n",
    "plt.show()"
   ]
  }
 ],
 "metadata": {
  "kernelspec": {
   "display_name": "Python 3 (ipykernel)",
   "language": "python",
   "name": "python3"
  },
  "language_info": {
   "codemirror_mode": {
    "name": "ipython",
    "version": 3
   },
   "file_extension": ".py",
   "mimetype": "text/x-python",
   "name": "python",
   "nbconvert_exporter": "python",
   "pygments_lexer": "ipython3",
   "version": "3.9.6"
  }
 },
 "nbformat": 4,
 "nbformat_minor": 5
}
